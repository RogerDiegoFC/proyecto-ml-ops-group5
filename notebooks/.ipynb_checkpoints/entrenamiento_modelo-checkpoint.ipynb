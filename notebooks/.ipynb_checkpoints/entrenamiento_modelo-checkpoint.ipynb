{
 "cells": [
  {
   "cell_type": "code",
   "execution_count": 1,
   "id": "b2747f2e-50fc-464c-99b3-9b39820183ce",
   "metadata": {},
   "outputs": [],
   "source": [
    "import pandas as pd\n",
    "\n",
    "# Cargar el CSV principal\n",
    "df = pd.read_csv(\"data/Data_Entry_2017.csv\")\n",
    "\n",
    "# Filtrar solo las imágenes del primer zip\n",
    "df_subset = df[df[\"Image Index\"].str.startswith(\"000\")].copy()\n",
    "\n",
    "# Seleccionar las primeras 100\n",
    "df_subset = df_subset.head(100).reset_index(drop=True)\n"
   ]
  },
  {
   "cell_type": "code",
   "execution_count": 2,
   "id": "d719bb64-84f6-406a-ac17-6c7ac87f4c38",
   "metadata": {},
   "outputs": [],
   "source": [
    "df_subset[\"Finding Labels\"] = df_subset[\"Finding Labels\"].str.split(\"|\")\n",
    "\n",
    "from sklearn.preprocessing import MultiLabelBinarizer\n",
    "mlb = MultiLabelBinarizer()\n",
    "y = mlb.fit_transform(df_subset[\"Finding Labels\"])\n"
   ]
  },
  {
   "cell_type": "code",
   "execution_count": 3,
   "id": "3dbaa487-f2e5-4e9d-9143-785159161907",
   "metadata": {},
   "outputs": [
    {
     "name": "stderr",
     "output_type": "stream",
     "text": [
      "libpng warning: iCCP: profile 'ICC Profile': 'GRAY': Gray color space not permitted on RGB PNG\n"
     ]
    }
   ],
   "source": [
    "import cv2\n",
    "import numpy as np\n",
    "import os\n",
    "\n",
    "IMG_DIR = \"data\"\n",
    "IMG_SIZE = 224  \n",
    "\n",
    "def load_image(fname):\n",
    "    path = os.path.join(IMG_DIR, fname)\n",
    "    img = cv2.imread(path, cv2.IMREAD_GRAYSCALE)\n",
    "    img = cv2.resize(img, (IMG_SIZE, IMG_SIZE))\n",
    "    img = np.stack([img]*3, axis=-1)  # convertir a 3 canales\n",
    "    return img / 255.0\n",
    "\n",
    "X = np.array([load_image(fname) for fname in df_subset[\"Image Index\"]])\n"
   ]
  },
  {
   "cell_type": "code",
   "execution_count": 4,
   "id": "d29d93d3-d4f8-47f9-bc6b-72d8adbdea26",
   "metadata": {},
   "outputs": [
    {
     "name": "stderr",
     "output_type": "stream",
     "text": [
      "2025-08-31 16:03:01.525119: I tensorflow/core/platform/cpu_feature_guard.cc:210] This TensorFlow binary is optimized to use available CPU instructions in performance-critical operations.\n",
      "To enable the following instructions: AVX2 FMA, in other operations, rebuild TensorFlow with the appropriate compiler flags.\n",
      "2025-08-31 16:03:26.246233: E external/local_xla/xla/stream_executor/cuda/cuda_platform.cc:51] failed call to cuInit: INTERNAL: CUDA error: Failed call to cuInit: UNKNOWN ERROR (303)\n"
     ]
    }
   ],
   "source": [
    "import tensorflow as tf\n",
    "\n",
    "base_model = tf.keras.applications.DenseNet121(\n",
    "    weights=\"imagenet\", include_top=False, input_shape=(224, 224, 3)\n",
    ")\n",
    "x = tf.keras.layers.GlobalAveragePooling2D()(base_model.output)\n",
    "x = tf.keras.layers.Dense(128, activation=\"relu\")(x)\n",
    "output = tf.keras.layers.Dense(len(mlb.classes_), activation=\"sigmoid\")(x)\n",
    "\n",
    "model = tf.keras.Model(inputs=base_model.input, outputs=output)\n",
    "model.compile(optimizer=\"adam\", loss=\"binary_crossentropy\", metrics=[\"accuracy\"])\n"
   ]
  },
  {
   "cell_type": "code",
   "execution_count": 5,
   "id": "bf747238-4579-4917-b714-0019c2f82585",
   "metadata": {},
   "outputs": [
    {
     "name": "stdout",
     "output_type": "stream",
     "text": [
      "Epoch 1/2\n",
      "\u001b[1m20/20\u001b[0m \u001b[32m━━━━━━━━━━━━━━━━━━━━\u001b[0m\u001b[37m\u001b[0m \u001b[1m96s\u001b[0m 2s/step - accuracy: 0.0668 - loss: 0.4993 - val_accuracy: 0.0500 - val_loss: 2.0293\n",
      "Epoch 2/2\n",
      "\u001b[1m20/20\u001b[0m \u001b[32m━━━━━━━━━━━━━━━━━━━━\u001b[0m\u001b[37m\u001b[0m \u001b[1m32s\u001b[0m 2s/step - accuracy: 0.3416 - loss: 0.3037 - val_accuracy: 0.0500 - val_loss: 5.4985\n"
     ]
    }
   ],
   "source": [
    "history = model.fit(X, y, epochs=2, batch_size=4, validation_split=0.2)\n"
   ]
  },
  {
   "cell_type": "code",
   "execution_count": null,
   "id": "820519a2-be13-42fd-9095-87897cd2ddf7",
   "metadata": {},
   "outputs": [],
   "source": []
  }
 ],
 "metadata": {
  "kernelspec": {
   "display_name": "Python 3.9 (conda)",
   "language": "python",
   "name": "py39"
  },
  "language_info": {
   "codemirror_mode": {
    "name": "ipython",
    "version": 3
   },
   "file_extension": ".py",
   "mimetype": "text/x-python",
   "name": "python",
   "nbconvert_exporter": "python",
   "pygments_lexer": "ipython3",
   "version": "3.9.23"
  }
 },
 "nbformat": 4,
 "nbformat_minor": 5
}
